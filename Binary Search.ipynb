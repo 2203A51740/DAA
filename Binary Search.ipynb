{
  "nbformat": 4,
  "nbformat_minor": 0,
  "metadata": {
    "colab": {
      "provenance": [],
      "authorship_tag": "ABX9TyOiN0sbyLboOxjvNqjhzBAd",
      "include_colab_link": true
    },
    "kernelspec": {
      "name": "python3",
      "display_name": "Python 3"
    },
    "language_info": {
      "name": "python"
    }
  },
  "cells": [
    {
      "cell_type": "markdown",
      "metadata": {
        "id": "view-in-github",
        "colab_type": "text"
      },
      "source": [
        "<a href=\"https://colab.research.google.com/github/2203A51740/DAA/blob/main/Untitled17.ipynb\" target=\"_parent\"><img src=\"https://colab.research.google.com/assets/colab-badge.svg\" alt=\"Open In Colab\"/></a>"
      ]
    },
    {
      "cell_type": "markdown",
      "source": [
        "Binary Search"
      ],
      "metadata": {
        "id": "0K_XgEq2Vwtq"
      }
    },
    {
      "cell_type": "code",
      "execution_count": 1,
      "metadata": {
        "colab": {
          "base_uri": "https://localhost:8080/"
        },
        "id": "5teOYmRUVsmL",
        "outputId": "ac98e1ab-9079-4652-e0fd-a9a9f4a5f143"
      },
      "outputs": [
        {
          "output_type": "stream",
          "name": "stdout",
          "text": [
            "Enter the value: 38\n",
            "Element found at index 6\n"
          ]
        }
      ],
      "source": [
        "def binary_search(arr, target):\n",
        "    low = 0\n",
        "    high = len(arr) - 1\n",
        "\n",
        "    while low <= high:\n",
        "        mid = (low + high) // 2\n",
        "        if arr[mid] == target:\n",
        "            return mid\n",
        "        elif arr[mid] < target:\n",
        "            low = mid + 1\n",
        "        else:\n",
        "            high = mid - 1\n",
        "\n",
        "    return -1\n",
        "arr = [2, 5, 8, 12, 16, 23, 38, 56, 72, 91]\n",
        "target = int(input(\"Enter the value: \"))\n",
        "result = binary_search(arr, target)\n",
        "\n",
        "if result != -1:\n",
        "    print(f\"Element found at index {result}\")\n",
        "else:\n",
        "    print(\"Element not found in array\")\n",
        "\n"
      ]
    }
  ]
}
